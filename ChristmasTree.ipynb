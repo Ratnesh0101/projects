{
 "cells": [
  {
   "cell_type": "code",
   "execution_count": null,
   "metadata": {},
   "outputs": [],
   "source": []
  },
  {
   "cell_type": "code",
   "execution_count": 12,
   "metadata": {},
   "outputs": [
    {
     "name": "stdout",
     "output_type": "stream",
     "text": [
      "\u001b[1;32;48m                                  *\u001b[0m\n",
      "\u001b[1;32;48m                                 ***\u001b[0m\n",
      "\u001b[1;32;48m                                *****\u001b[0m\n",
      "\u001b[1;32;48m                               *******\u001b[0m\n",
      "\u001b[1;32;48m                              *********\u001b[0m\n",
      "\u001b[1;32;48m                             ***********\u001b[0m\n",
      "\u001b[1;32;48m                            *************\u001b[0m\n",
      "\u001b[1;32;48m                           ***************\u001b[0m\n",
      "\u001b[1;32;48m                          *****************\u001b[0m\n",
      "\u001b[1;32;48m                         *******************\u001b[0m\n",
      "\u001b[1;32;48m                        *********************\u001b[0m\n",
      "\u001b[1;32;48m                       ***********************\u001b[0m\n",
      "\u001b[1;32;48m                      *************************\u001b[0m\n",
      "\u001b[1;32;48m                     ***************************\u001b[0m\n",
      "\u001b[1;32;48m                    *****************************\u001b[0m\n",
      "\u001b[1;32;48m                   *******************************\u001b[0m\n",
      "\u001b[1;32;48m                  *********************************\u001b[0m\n",
      "                                  ||\n",
      "                                  ||\n",
      "                                  ||\n",
      "                                \\====/\n"
     ]
    }
   ],
   "source": [
    "b = 34\n",
    "c = 0\n",
    "while b > 0 and c < 33:\n",
    "    print('\\33[1;32;48m'+' '* b + '*'+'*'*c+'\\33[0m')\n",
    "    b -= 1\n",
    "    c += 2\n",
    "for r in range(3):\n",
    "    print(' '*33,'||')\n",
    "print(' '*32, end = '\\====/')\n",
    "print('')"
   ]
  },
  {
   "cell_type": "code",
   "execution_count": 13,
   "metadata": {},
   "outputs": [
    {
     "name": "stdout",
     "output_type": "stream",
     "text": [
      "\u001b[1;32;48m                                  \u001b[0m\n",
      "\u001b[1;32;48m                                 **\u001b[0m\n",
      "\u001b[1;32;48m                                ****\u001b[0m\n",
      "\u001b[1;32;48m                               ******\u001b[0m\n",
      "\u001b[1;32;48m                              ********\u001b[0m\n",
      "\u001b[1;32;48m                             **********\u001b[0m\n",
      "\u001b[1;32;48m                            ************\u001b[0m\n",
      "\u001b[1;32;48m                           **************\u001b[0m\n",
      "\u001b[1;32;48m                          ****************\u001b[0m\n",
      "\u001b[1;32;48m                         ******************\u001b[0m\n",
      "\u001b[1;32;48m                        ********************\u001b[0m\n",
      "\u001b[1;32;48m                       **********************\u001b[0m\n",
      "\u001b[1;32;48m                      ************************\u001b[0m\n",
      "\u001b[1;32;48m                     **************************\u001b[0m\n",
      "\u001b[1;32;48m                    ****************************\u001b[0m\n",
      "\u001b[1;32;48m                   ******************************\u001b[0m\n",
      "\u001b[1;32;48m                  ********************************\u001b[0m\n",
      "                                  ||\n",
      "                                  ||\n",
      "                                  ||\n",
      "                                \\====/\n"
     ]
    }
   ],
   "source": [
    "b = 34\n",
    "c = 0\n",
    "while b > 0 and c < 33:\n",
    "    print('\\33[1;32;48m' + ' ' * b + '*'*c + '\\33[0m')\n",
    "    b -= 1\n",
    "    c += 2\n",
    "for r in range(3):\n",
    "    print(' ' * 33, '||')\n",
    "print(' ' * 32, end='\\====/')\n",
    "print('')"
   ]
  },
  {
   "cell_type": "code",
   "execution_count": null,
   "metadata": {},
   "outputs": [],
   "source": []
  }
 ],
 "metadata": {
  "kernelspec": {
   "display_name": "Python 3",
   "language": "python",
   "name": "python3"
  },
  "language_info": {
   "codemirror_mode": {
    "name": "ipython",
    "version": 3
   },
   "file_extension": ".py",
   "mimetype": "text/x-python",
   "name": "python",
   "nbconvert_exporter": "python",
   "pygments_lexer": "ipython3",
   "version": "3.11.2"
  },
  "orig_nbformat": 4
 },
 "nbformat": 4,
 "nbformat_minor": 2
}
